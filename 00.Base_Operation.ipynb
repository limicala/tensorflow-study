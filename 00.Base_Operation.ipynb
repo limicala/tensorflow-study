{
 "cells": [
  {
   "cell_type": "markdown",
   "metadata": {},
   "source": [
    "# 基本操作"
   ]
  },
  {
   "cell_type": "code",
   "execution_count": 1,
   "metadata": {
    "collapsed": true
   },
   "outputs": [],
   "source": [
    "# 使用%matplotlib命令可以将matplotlib的图表直接嵌入到Notebook之中\n",
    "%matplotlib inline\n",
    "import matplotlib.pyplot as plt\n",
    "import tensorflow as tf\n",
    "import numpy as np\n",
    "from sklearn.metrics import confusion_matrix"
   ]
  },
  {
   "cell_type": "code",
   "execution_count": 2,
   "metadata": {
    "collapsed": false
   },
   "outputs": [
    {
     "name": "stdout",
     "output_type": "stream",
     "text": [
      "Extracting data/MNIST\\train-images-idx3-ubyte.gz\n",
      "Extracting data/MNIST\\train-labels-idx1-ubyte.gz\n",
      "Extracting data/MNIST\\t10k-images-idx3-ubyte.gz\n",
      "Extracting data/MNIST\\t10k-labels-idx1-ubyte.gz\n"
     ]
    }
   ],
   "source": [
    "# 加载mnist数据\n",
    "from tensorflow.examples.tutorials.mnist import input_data\n",
    "data = input_data.read_data_sets(\"data/MNIST\", one_hot=True)"
   ]
  },
  {
   "cell_type": "markdown",
   "metadata": {},
   "source": [
    "数据集分三大部分，（训练数据，测试数据和校验数据）\n",
    "暂时不知道校验数据的作用"
   ]
  },
  {
   "cell_type": "code",
   "execution_count": 3,
   "metadata": {
    "collapsed": false
   },
   "outputs": [
    {
     "name": "stdout",
     "output_type": "stream",
     "text": [
      "Training-set:55000\n",
      "Test-set:10000\n",
      "Validation-set:5000\n"
     ]
    }
   ],
   "source": [
    "print(\"Training-set:{}\".format(len(data.train.labels)))\n",
    "print(\"Test-set:{}\".format(len(data.test.labels)))\n",
    "print(\"Validation-set:{}\".format(len(data.validation.labels)))"
   ]
  },
  {
   "cell_type": "markdown",
   "metadata": {},
   "source": [
    "## One-Hot 编码\n",
    "labels将由原本的一个数转换成一个n * 1的向量，n为所有可能的输出的数目\n",
    "\n",
    "查看test集前5个的label的One-Hot编码"
   ]
  },
  {
   "cell_type": "code",
   "execution_count": 4,
   "metadata": {
    "collapsed": false
   },
   "outputs": [
    {
     "data": {
      "text/plain": [
       "array([[ 0.,  0.,  0.,  0.,  0.,  0.,  0.,  1.,  0.,  0.],\n",
       "       [ 0.,  0.,  1.,  0.,  0.,  0.,  0.,  0.,  0.,  0.],\n",
       "       [ 0.,  1.,  0.,  0.,  0.,  0.,  0.,  0.,  0.,  0.],\n",
       "       [ 1.,  0.,  0.,  0.,  0.,  0.,  0.,  0.,  0.,  0.],\n",
       "       [ 0.,  0.,  0.,  0.,  1.,  0.,  0.,  0.,  0.,  0.]])"
      ]
     },
     "execution_count": 4,
     "metadata": {},
     "output_type": "execute_result"
    }
   ],
   "source": [
    "data.test.labels[0:5]"
   ]
  },
  {
   "cell_type": "markdown",
   "metadata": {},
   "source": [
    "某些情况需要把One-Hot编码的向量转换成数值型的数据，\n",
    "可以实现转换的方法是从向量中找出数值最大的，也就是1，\n",
    "取其下标作为这个向量对应的数据型数据。\n",
    "\n",
    "看到这里，有点像之前看过的遗传算法的编码和解码"
   ]
  },
  {
   "cell_type": "code",
   "execution_count": 5,
   "metadata": {
    "collapsed": false
   },
   "outputs": [
    {
     "name": "stdout",
     "output_type": "stream",
     "text": [
      "<class 'numpy.ndarray'>\n",
      "[[1 2 3 4]\n",
      " [3 4 5 2]]\n",
      "<class 'numpy.ndarray'>\n",
      "6\n"
     ]
    }
   ],
   "source": [
    "arr = [\n",
    "    [1,2,3,4],\n",
    "    [3,4,5,2],\n",
    "]\n",
    "b = np.array(arr)\n",
    "# print(b)\n",
    "print(type(b))\n",
    "print(b)\n",
    "print(type(data.test.labels[0]))\n",
    "print(b.argmax())\n",
    "# 由以上代码可知\n",
    "# np.array接收一个list，并转换成numpy里的ndarray对象\n",
    "# 测试数据集每个label的类型也是ndarray\n",
    "# ndarray的argmax就是找出比较ndarray里面的每一个元素，找到最大的返回其下标\n",
    "# 从我的例子里面看，即使是二维数组，但也只是返回一个数字，而不是返回横纵两个坐标的参数"
   ]
  },
  {
   "cell_type": "code",
   "execution_count": 6,
   "metadata": {
    "collapsed": false
   },
   "outputs": [
    {
     "data": {
      "text/plain": [
       "array([7, 2, 1, 0, 4], dtype=int64)"
      ]
     },
     "execution_count": 6,
     "metadata": {},
     "output_type": "execute_result"
    }
   ],
   "source": [
    "data.test.cls = np.array([label.argmax() for label in data.test.labels])\n",
    "data.test.cls[0:5]"
   ]
  },
  {
   "cell_type": "markdown",
   "metadata": {},
   "source": [
    "## tensorflow的数据类型\n",
    "[链接](http://wiki.jikexueyuan.com/project/tensorflow-zh/get_started/basic_usage.html)"
   ]
  },
  {
   "cell_type": "markdown",
   "metadata": {},
   "source": [
    "- 使用**图(graph)**来表示计算任务\n",
    "- 在**会话(Session)**的上下文(context)中执行图\n",
    "- 使用tensor表示数据\n",
    "- 通过变量(Variable)维护状态\n",
    "- 使用feed和fecth可以为任意的操作赋值或者从其中获取数据\n",
    "\n",
    "看个矩阵相乘的例子"
   ]
  },
  {
   "cell_type": "markdown",
   "metadata": {},
   "source": [
    "构建图"
   ]
  },
  {
   "cell_type": "code",
   "execution_count": 7,
   "metadata": {
    "collapsed": false
   },
   "outputs": [
    {
     "name": "stdout",
     "output_type": "stream",
     "text": [
      "(1, 2)\n",
      "(2, 1)\n",
      "Tensor(\"MatMul:0\", shape=(1, 1), dtype=float32)\n"
     ]
    }
   ],
   "source": [
    "# create one constant op resprents a 1x2 matrix\n",
    "# it is loaded into the default graph\n",
    "matrix1 = tf.constant([[3., 3.]])\n",
    "\n",
    "# other constant op, 2x1 matrix\n",
    "matrix2 = tf.constant([[2.],[2.]])\n",
    "print(matrix1.shape)\n",
    "print(matrix2.shape)\n",
    "# create a matrix multi~ op, \n",
    "result = tf.matmul(matrix1, matrix2)\n",
    "print(result)"
   ]
  },
  {
   "cell_type": "markdown",
   "metadata": {},
   "source": [
    "在会话中启动图"
   ]
  },
  {
   "cell_type": "code",
   "execution_count": 8,
   "metadata": {
    "collapsed": false
   },
   "outputs": [
    {
     "name": "stdout",
     "output_type": "stream",
     "text": [
      "[[ 12.]]\n"
     ]
    }
   ],
   "source": [
    "# start default graph\n",
    "sess = tf.Session()\n",
    "\n",
    "# invoke method 'run' of sess to execute the multi~ op\n",
    "# 'result' represent the output of the multi op\n",
    "# so now, regard 'result' as input to the function 'run'\n",
    "\n",
    "graph_result = sess.run(result)\n",
    "print(graph_result)\n",
    "\n",
    "# close session\n",
    "sess.close()"
   ]
  },
  {
   "cell_type": "code",
   "execution_count": 9,
   "metadata": {
    "collapsed": false
   },
   "outputs": [
    {
     "name": "stdout",
     "output_type": "stream",
     "text": [
      "[[ 12.]]\n"
     ]
    }
   ],
   "source": [
    "# simply code\n",
    "with tf.Session() as sess:\n",
    "    r = sess.run(result)\n",
    "    print(r)"
   ]
  },
  {
   "cell_type": "markdown",
   "metadata": {},
   "source": [
    "## Tensorflow Graph\n",
    "Tensorflow使用流程，构建图然后去计算图，得到图的输出\n",
    "\n",
    "计算图(computational graph)是比直接在Python中进行计算要高效的多，\n",
    "除此之外，Tensorflow能自动计算需要优化的变量的梯度\n",
    "\n",
    "一个TensorFlow图由下面几个部分组成:\n",
    "- **Placeholder** 变量 -- 用来改变图的输入\n",
    "- **Model** 变量 -- Model变量会自动优化该变量的梯度（我猜的）\n",
    "像线性模型里面的W和b\n",
    "- 模型本质上就是数学函数，接受Placeholder变量和Model变量计算一些输出\n",
    "- A **cost measure** is used to  guide the optimization of the variables\n",
    "- An **optimization method** -- update the variables of the model."
   ]
  },
  {
   "cell_type": "markdown",
   "metadata": {},
   "source": [
    "### Placeholder variables\n",
    "Placeholder variables as the input of the graph.\n",
    "it may change each time when execute the graph.\n"
   ]
  },
  {
   "cell_type": "code",
   "execution_count": 11,
   "metadata": {
    "collapsed": false
   },
   "outputs": [
    {
     "name": "stdout",
     "output_type": "stream",
     "text": [
      "Tensor(\"Placeholder:0\", shape=(?, 3), dtype=float32)\n"
     ]
    }
   ],
   "source": [
    "# set datatype as float32, shape as [row, col] None represented unset\n",
    "x = tf.placeholder(tf.float32, [None, 3])\n",
    "print(x)"
   ]
  },
  {
   "cell_type": "markdown",
   "metadata": {},
   "source": [
    "# 画图"
   ]
  },
  {
   "cell_type": "code",
   "execution_count": null,
   "metadata": {
    "collapsed": false,
    "scrolled": true
   },
   "outputs": [],
   "source": [
    "fig, axes = plt.subplots(3,3)\n",
    "\n",
    "for i ,ax in enumerate(axes.flat):\n",
    "    print(ax)\n",
    "    ax.set_xlabel(i)\n",
    "    \n",
    "    # remove ticks\n",
    "    ax.set_xticks([])\n",
    "    ax.set_yticks([])\n",
    "# 可以看出axes.flat包括了所有的子图\n",
    "# 输出子图信息可得该子图某个点（暂时不知道是哪个点）和形状（长x宽）"
   ]
  },
  {
   "cell_type": "code",
   "execution_count": null,
   "metadata": {
    "collapsed": true
   },
   "outputs": [],
   "source": [
    "def watch(images, cls_sample ):\n",
    "    \"\"\"\n",
    "    @param \n",
    "    \"\"\"\n",
    "    assert len(images) == len(cls_sample)\n",
    "    \n",
    "    # Create figure with 3x3 sub-plots.\n",
    "    fig, axes = plt.subplots(3,3)\n",
    "    \n",
    "    for i, ax in enumerate(axes.flat):\n",
    "        # Plot image\n",
    "        ax.imshow(images[i].reshape((28 , 28)), cmap='binary')\n",
    "        \n",
    "        xlabel = \"True: {0}\".format(cls_sample[i])\n",
    "        \n",
    "        ax.set_xlabel(xlabel)\n",
    "        \n",
    "        # remove ticks\n",
    "        ax.set_xticks([])\n",
    "        ax.set_yticks([])"
   ]
  },
  {
   "cell_type": "code",
   "execution_count": null,
   "metadata": {
    "collapsed": false
   },
   "outputs": [],
   "source": [
    "watch(data.test.images[0:9], data.test.cls[0:9])"
   ]
  }
 ],
 "metadata": {
  "kernelspec": {
   "display_name": "Python 3",
   "language": "python",
   "name": "python3"
  },
  "language_info": {
   "codemirror_mode": {
    "name": "ipython",
    "version": 3
   },
   "file_extension": ".py",
   "mimetype": "text/x-python",
   "name": "python",
   "nbconvert_exporter": "python",
   "pygments_lexer": "ipython3",
   "version": "3.6.0"
  }
 },
 "nbformat": 4,
 "nbformat_minor": 2
}
